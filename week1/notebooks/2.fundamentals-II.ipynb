{
 "cells": [
  {
   "cell_type": "markdown",
   "id": "9eb30f73",
   "metadata": {},
   "source": [
    "## 1. Loops\n",
    "\n",
    "### Loops in Python\n",
    "Python has two main types of loops:\n",
    "- **for loop**: Iterates over a sequence (e.g., list, tuple, string, dictionary, range).\n",
    "- **while loop**: Runs as long as a condition is `True`."
   ]
  },
  {
   "cell_type": "code",
   "execution_count": null,
   "id": "91791451",
   "metadata": {},
   "outputs": [],
   "source": [
    "for i in range(5):\n",
    "    print(i)"
   ]
  },
  {
   "cell_type": "code",
   "execution_count": null,
   "id": "e3aa472f",
   "metadata": {},
   "outputs": [],
   "source": [
    "x = 0\n",
    "while x < 5:\n",
    "    print(x)\n",
    "    x += 1"
   ]
  },
  {
   "cell_type": "markdown",
   "id": "9f6e1731",
   "metadata": {},
   "source": [
    "## 2. Conditional Statements\n",
    "\n",
    "### Conditional Statements\n",
    "Conditional statements allow decision-making in Python."
   ]
  },
  {
   "cell_type": "code",
   "execution_count": 12,
   "id": "6fc5f864",
   "metadata": {},
   "outputs": [],
   "source": [
    "x = input()"
   ]
  },
  {
   "cell_type": "code",
   "execution_count": 8,
   "id": "5d1eed25",
   "metadata": {},
   "outputs": [
    {
     "ename": "TypeError",
     "evalue": "'>' not supported between instances of 'str' and 'int'",
     "output_type": "error",
     "traceback": [
      "\u001b[0;31m---------------------------------------------------------------------------\u001b[0m",
      "\u001b[0;31mTypeError\u001b[0m                                 Traceback (most recent call last)",
      "Cell \u001b[0;32mIn[8], line 3\u001b[0m\n\u001b[1;32m      1\u001b[0m \u001b[38;5;66;03m# x = 10\u001b[39;00m\n\u001b[0;32m----> 3\u001b[0m \u001b[38;5;28;01mif\u001b[39;00m \u001b[43mx\u001b[49m\u001b[43m \u001b[49m\u001b[38;5;241;43m>\u001b[39;49m\u001b[43m \u001b[49m\u001b[38;5;241;43m5\u001b[39;49m:\n\u001b[1;32m      4\u001b[0m     \u001b[38;5;28mprint\u001b[39m(\u001b[38;5;124m\"\u001b[39m\u001b[38;5;124mx is greater than 5\u001b[39m\u001b[38;5;124m\"\u001b[39m)\n\u001b[1;32m      5\u001b[0m \u001b[38;5;28;01melif\u001b[39;00m x \u001b[38;5;241m==\u001b[39m \u001b[38;5;241m5\u001b[39m:\n",
      "\u001b[0;31mTypeError\u001b[0m: '>' not supported between instances of 'str' and 'int'"
     ]
    }
   ],
   "source": [
    "# x = 10\n",
    "\n",
    "if x > 5:\n",
    "    print(\"x is greater than 5\")\n",
    "elif x == 5:\n",
    "    print(\"x is equal to 5\")\n",
    "else:\n",
    "    print(\"x is less than 5\")"
   ]
  },
  {
   "cell_type": "markdown",
   "id": "ae506a94",
   "metadata": {},
   "source": [
    "## 3. Lambda Functions\n",
    "\n",
    "### Lambda Functions\n",
    "Lambda functions are small anonymous functions defined using the `lambda` keyword."
   ]
  },
  {
   "cell_type": "code",
   "execution_count": 6,
   "id": "d2787a98",
   "metadata": {},
   "outputs": [
    {
     "name": "stdout",
     "output_type": "stream",
     "text": [
      "25\n"
     ]
    }
   ],
   "source": [
    "def square(x):\n",
    "    return x ** 2\n",
    "\n",
    "print(square(5))"
   ]
  },
  {
   "cell_type": "code",
   "execution_count": null,
   "id": "09a0d1ab",
   "metadata": {},
   "outputs": [],
   "source": [
    "square = lambda x: x ** 2\n",
    "print(square(5))"
   ]
  },
  {
   "cell_type": "markdown",
   "id": "18f9ec10",
   "metadata": {},
   "source": [
    "## 4. List Comprehensions\n",
    "\n",
    "### List Comprehensions\n",
    "List comprehensions provide a concise way to create lists."
   ]
  },
  {
   "cell_type": "code",
   "execution_count": 5,
   "id": "9bdfc887",
   "metadata": {},
   "outputs": [
    {
     "name": "stdout",
     "output_type": "stream",
     "text": [
      "[0, 2, 4, 6, 8]\n"
     ]
    }
   ],
   "source": [
    "numbers = []\n",
    "for x in range(10):\n",
    "    if x % 2 == 0:\n",
    "        numbers.append(x)\n",
    "\n",
    "print(numbers)"
   ]
  },
  {
   "cell_type": "code",
   "execution_count": 4,
   "id": "ed37e420",
   "metadata": {},
   "outputs": [
    {
     "name": "stdout",
     "output_type": "stream",
     "text": [
      "[0, 2, 4, 6, 8]\n"
     ]
    }
   ],
   "source": [
    "numbers = [x for x in range(10) if x % 2 == 0]\n",
    "print(numbers)"
   ]
  },
  {
   "cell_type": "markdown",
   "id": "88e7f7d9",
   "metadata": {},
   "source": [
    "## 6. Exception Handling\n",
    "\n",
    "### Exception Handling\n",
    "Exception handling prevents runtime errors from crashing the program."
   ]
  },
  {
   "cell_type": "code",
   "execution_count": 3,
   "id": "6b0def5e",
   "metadata": {},
   "outputs": [
    {
     "ename": "ZeroDivisionError",
     "evalue": "division by zero",
     "output_type": "error",
     "traceback": [
      "\u001b[0;31m---------------------------------------------------------------------------\u001b[0m",
      "\u001b[0;31mZeroDivisionError\u001b[0m                         Traceback (most recent call last)",
      "Cell \u001b[0;32mIn[3], line 1\u001b[0m\n\u001b[0;32m----> 1\u001b[0m \u001b[38;5;241;43m10\u001b[39;49m\u001b[43m \u001b[49m\u001b[38;5;241;43m/\u001b[39;49m\u001b[43m \u001b[49m\u001b[38;5;241;43m0\u001b[39;49m\n",
      "\u001b[0;31mZeroDivisionError\u001b[0m: division by zero"
     ]
    }
   ],
   "source": [
    "10 / 0"
   ]
  },
  {
   "cell_type": "code",
   "execution_count": 2,
   "id": "d132cf2e",
   "metadata": {},
   "outputs": [
    {
     "name": "stdout",
     "output_type": "stream",
     "text": [
      "Cannot divide by zero!\n",
      "Execution completed.\n"
     ]
    }
   ],
   "source": [
    "try:\n",
    "    x = 10 / 0  # Division by zero error\n",
    "except ZeroDivisionError:\n",
    "    print(\"Cannot divide by zero!\")\n",
    "finally:\n",
    "    print(\"Execution completed.\")"
   ]
  },
  {
   "cell_type": "markdown",
   "id": "17c0bef3",
   "metadata": {},
   "source": [
    "## 7. Functions\n",
    "\n",
    "### Functions\n",
    "Functions allow code reuse and modularity."
   ]
  },
  {
   "cell_type": "code",
   "execution_count": null,
   "id": "00e60d6c",
   "metadata": {},
   "outputs": [],
   "source": [
    "try:\n",
    "    x = 10 / 0  # Division by zero error\n",
    "except ZeroDivisionError:\n",
    "    print(\"Cannot divide by zero!\")\n",
    "finally:\n",
    "    print(\"Execution completed.\")"
   ]
  },
  {
   "cell_type": "code",
   "execution_count": null,
   "id": "0b485bab",
   "metadata": {},
   "outputs": [],
   "source": [
    "def add_numbers(a, b):\n",
    "    return a + b\n",
    "\n",
    "print(add_numbers(3, 5))"
   ]
  },
  {
   "cell_type": "code",
   "execution_count": null,
   "id": "6646032a",
   "metadata": {},
   "outputs": [],
   "source": [
    "def power(base, exponent=2):\n",
    "    return base ** exponent\n",
    "\n",
    "print(power(3))     \n",
    "print(power(3, 3)) "
   ]
  },
  {
   "cell_type": "code",
   "execution_count": null,
   "id": "1326e6d1",
   "metadata": {},
   "outputs": [],
   "source": [
    "def calculate_area_and_perimeter(length, width):\n",
    "    area = length * width\n",
    "    perimeter = 2 * (length + width)\n",
    "    return area, perimeter\n",
    "\n",
    "a, p = calculate_area_and_perimeter(5, 3)\n",
    "print(f\"Area: {a}, Perimeter: {p}\")"
   ]
  },
  {
   "cell_type": "code",
   "execution_count": null,
   "id": "a5cfde4c",
   "metadata": {},
   "outputs": [],
   "source": [
    "def sum_all(*numbers):\n",
    "    return sum(numbers)\n",
    "\n",
    "print(sum_all(1, 2, 3, 4, 5))  "
   ]
  },
  {
   "cell_type": "code",
   "execution_count": null,
   "id": "bbee0e15",
   "metadata": {},
   "outputs": [],
   "source": [
    "def print_person_info(**info):\n",
    "    for key, value in info.items():\n",
    "        print(f\"{key}: {value}\")\n",
    "\n",
    "print_person_info(name=\"Alice\", age=25, city=\"New York\")"
   ]
  },
  {
   "cell_type": "code",
   "execution_count": 1,
   "id": "19a723cb",
   "metadata": {},
   "outputs": [
    {
     "name": "stdout",
     "output_type": "stream",
     "text": [
      "120\n"
     ]
    }
   ],
   "source": [
    "def factorial(n):\n",
    "    if n == 0:\n",
    "        return 1\n",
    "    return n * factorial(n - 1)\n",
    "\n",
    "print(factorial(5))"
   ]
  }
 ],
 "metadata": {
  "kernelspec": {
   "display_name": "Python 3",
   "language": "python",
   "name": "python3"
  },
  "language_info": {
   "codemirror_mode": {
    "name": "ipython",
    "version": 3
   },
   "file_extension": ".py",
   "mimetype": "text/x-python",
   "name": "python",
   "nbconvert_exporter": "python",
   "pygments_lexer": "ipython3",
   "version": "3.11.1"
  }
 },
 "nbformat": 4,
 "nbformat_minor": 5
}
