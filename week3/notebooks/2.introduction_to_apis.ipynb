{
 "cells": [
  {
   "cell_type": "markdown",
   "metadata": {},
   "source": [
    "# Introduction to APIs with Python Requests\n",
    "This notebook covers the basics of JSON, APIs, and how to use Python's `requests` library."
   ]
  },
  {
   "cell_type": "markdown",
   "metadata": {},
   "source": [
    "## What is JSON?\n",
    "JSON (JavaScript Object Notation) is a lightweight data format that is easy for humans to read and write, and easy for machines to parse and generate."
   ]
  },
  {
   "cell_type": "code",
   "execution_count": null,
   "metadata": {},
   "outputs": [],
   "source": [
    "import json\n",
    "# Example JSON string\n",
    "json_data = '{\"name\": \"John\", \"age\": 30, \"city\": \"New York\"}'\n",
    "# Convert JSON string to Python dictionary\n",
    "parsed_data = json.loads(json_data)\n",
    "print(parsed_data[\"name\"])  # Output: John"
   ]
  },
  {
   "cell_type": "markdown",
   "metadata": {},
   "source": [
    "## Python Dictionary and JSON Relation\n",
    "JSON and Python dictionaries have a similar structure. We can convert a dictionary to JSON and vice versa."
   ]
  },
  {
   "cell_type": "code",
   "execution_count": null,
   "metadata": {},
   "outputs": [],
   "source": [
    "# Convert Python dictionary to JSON\n",
    "dict_data = {\"name\": \"Alice\", \"age\": 25, \"city\": \"London\"}\n",
    "json_string = json.dumps(dict_data)\n",
    "print(json_string)"
   ]
  },
  {
   "cell_type": "markdown",
   "metadata": {},
   "source": [
    "## What is an API?\n",
    "API (Application Programming Interface) allows communication between different software systems.\n",
    "APIs define how requests and responses should be formatted."
   ]
  },
  {
   "cell_type": "markdown",
   "metadata": {},
   "source": [
    "## Fundamentals of APIs\n",
    "APIs can be RESTful or SOAP-based, but RESTful APIs are more common.\n",
    "### HTTP methods commonly used in APIs:\n",
    "- **GET**: Retrieve data\n",
    "- **POST**: Send data\n",
    "- **PUT**: Update data\n",
    "- **DELETE**: Remove data"
   ]
  },
  {
   "cell_type": "markdown",
   "metadata": {},
   "source": [
    "## Python Requests Library\n",
    "The `requests` library is used to make HTTP requests in Python."
   ]
  },
  {
   "cell_type": "code",
   "execution_count": null,
   "metadata": {},
   "outputs": [],
   "source": [
    "# Install requests library (if not installed)\n",
    "# !pip install requests\n",
    "import requests"
   ]
  },
  {
   "cell_type": "markdown",
   "metadata": {},
   "source": [
    "## Using Python Requests Library\n",
    "### Making a GET request"
   ]
  },
  {
   "cell_type": "code",
   "execution_count": null,
   "metadata": {},
   "outputs": [],
   "source": [
    "url = \"https://jsonplaceholder.typicode.com/posts/1\"  # Sample API\n",
    "response = requests.get(url)  # Making a GET request\n",
    "\n",
    "if response.status_code == 200:\n",
    "    print(\"Response JSON:\", response.json())  # Parsing JSON response\n",
    "else:\n",
    "    print(\"Failed to retrieve data\")"
   ]
  },
  {
   "cell_type": "markdown",
   "metadata": {},
   "source": [
    "### Example of sending a POST request"
   ]
  },
  {
   "cell_type": "code",
   "execution_count": null,
   "metadata": {},
   "outputs": [],
   "source": [
    "data = {\"title\": \"foo\", \"body\": \"bar\", \"userId\": 1}\n",
    "post_response = requests.post(\"https://jsonplaceholder.typicode.com/posts\", json=data)\n",
    "\n",
    "if post_response.status_code == 201:\n",
    "    print(\"Post Response JSON:\", post_response.json())\n",
    "else:\n",
    "    print(\"Failed to post data\")"
   ]
  },
  {
   "cell_type": "markdown",
   "metadata": {},
   "source": [
    "## TODO: \n",
    "- Implement data cleaning step\n",
    "- Add more API examples"
   ]
  },
  {
   "cell_type": "markdown",
   "metadata": {},
   "source": []
  }
 ],
 "metadata": {
  "kernelspec": {
   "display_name": "Python 3",
   "language": "python",
   "name": "python3"
  },
  "language_info": {
   "codemirror_mode": {
    "name": "ipython",
    "version": 3
   },
   "file_extension": ".py",
   "mimetype": "text/x-python",
   "name": "python",
   "nbconvert_exporter": "python",
   "pygments_lexer": "ipython3",
   "version": "3.8.10"
  }
 },
 "nbformat": 4,
 "nbformat_minor": 4
}
