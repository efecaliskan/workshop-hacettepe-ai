{
 "cells": [
  {
   "cell_type": "markdown",
   "id": "ee5d8acc",
   "metadata": {},
   "source": [
    "\n",
    "# Introduction to APIs and Requests Library\n",
    "\n",
    "## What is an API?\n",
    "An **API (Application Programming Interface)** allows different software applications to communicate with each other.  \n",
    "APIs provide a structured way to request and exchange data over the internet.\n",
    "\n",
    "For example, the **Pokémon API (PokeAPI)** allows us to retrieve details about various Pokémon using simple HTTP requests.\n",
    "\n",
    "## Python Requests Library\n",
    "The `requests` library in Python helps us interact with APIs. It allows us to send HTTP requests and handle responses easily.\n",
    "\n",
    "https://pokeapi.co/api/v2/pokemon?limit=20\n"
   ]
  },
  {
   "cell_type": "code",
   "execution_count": null,
   "id": "0691ca95",
   "metadata": {},
   "outputs": [],
   "source": [
    "\n",
    "# Install requests library (if not already installed)\n",
    "%pip install requests pandas matplotlib seaborn\n"
   ]
  },
  {
   "cell_type": "code",
   "execution_count": 1,
   "id": "0e68f574",
   "metadata": {},
   "outputs": [
    {
     "name": "stdout",
     "output_type": "stream",
     "text": [
      "Status Code: 200\n",
      "{\"abilities\":[{\"ability\":{\"name\":\"static\",\"url\":\"https://pokeapi.co/api/v2/ability/9/\"},\"is_hidden\":false,\"slot\":1},{\"ability\":{\"name\":\"lightning-rod\",\"url\":\"https://pokeapi.co/api/v2/ability/31/\"},\"is_hidden\":true,\"slot\":3}],\"base_experience\":112,\"cries\":{\"latest\":\"https://raw.githubusercontent.com/PokeAPI/cries/main/cries/pokemon/latest/25.ogg\",\"legacy\":\"https://raw.githubusercontent.com/PokeAPI/cries/main/cries/pokemon/legacy/25.ogg\"},\"forms\":[{\"name\":\"pikachu\",\"url\":\"https://pokeapi.co/api/v\n"
     ]
    }
   ],
   "source": [
    "\n",
    "import requests\n",
    "\n",
    "# Example: Making a GET request to a public API (Pokémon API)\n",
    "response = requests.get(\"https://pokeapi.co/api/v2/pokemon/pikachu\")\n",
    "\n",
    "# Print response status code\n",
    "print(\"Status Code:\", response.status_code)\n",
    "\n",
    "# Print first 500 characters of response content\n",
    "print(response.text[:500])\n"
   ]
  },
  {
   "cell_type": "code",
   "execution_count": 2,
   "id": "4a85099c",
   "metadata": {},
   "outputs": [
    {
     "name": "stdout",
     "output_type": "stream",
     "text": [
      "{\n",
      "    \"abilities\": [\n",
      "        {\n",
      "            \"ability\": {\n",
      "                \"name\": \"static\",\n",
      "                \"url\": \"https://pokeapi.co/api/v2/ability/9/\"\n",
      "            },\n",
      "            \"is_hidden\": false,\n",
      "            \"slot\": 1\n",
      "        },\n",
      "        {\n",
      "            \"ability\": {\n",
      "                \"name\": \"lightning-rod\",\n",
      "                \"url\": \"https://pokeapi.co/api/v2/ability/31/\"\n",
      "            },\n",
      "            \"is_hidden\": true,\n",
      "            \"slot\": 3\n",
      "        }\n",
      "    ],\n",
      "    \"base_experience\": 112,\n",
      "    \"cries\": {\n",
      "        \"latest\": \"https://raw.githubusercontent.com/PokeAPI/cries/main/cries/pokemon/latest/25.ogg\",\n",
      "        \"legacy\": \"https://raw.githubusercontent.com/PokeAPI/cries/main/cries/pokemon/legacy/25.ogg\"\n",
      "    },\n",
      "    \"forms\": [\n",
      "        {\n",
      "            \"name\": \"pikachu\",\n",
      "            \"url\": \"https://pokeapi.co/api/v2/pokemon-form/25/\"\n",
      "        }\n",
      "    ],\n",
      "    \"game_indices\": [\n",
      "        {\n",
      "            \"game_index\": 84,\n",
      "            \"version\": {\n",
      "                \"name\": \"red\",\n",
      "                \"url\": \"https://poke\n"
     ]
    }
   ],
   "source": [
    "\n",
    "import json\n",
    "\n",
    "# Function to fetch Pokémon data\n",
    "def get_pokemon_data(pokemon_name):\n",
    "    url = f\"https://pokeapi.co/api/v2/pokemon/{pokemon_name.lower()}\"\n",
    "    response = requests.get(url)\n",
    "    \n",
    "    if response.status_code == 200:\n",
    "        return response.json()\n",
    "    else:\n",
    "        print(\"Error:\", response.status_code)\n",
    "        return None\n",
    "\n",
    "# Fetch Pikachu's data\n",
    "pikachu_data = get_pokemon_data(\"pikachu\")\n",
    "\n",
    "# Pretty-print JSON response\n",
    "print(json.dumps(pikachu_data, indent=4)[:1000])\n"
   ]
  },
  {
   "cell_type": "code",
   "execution_count": 3,
   "id": "8e73a4ea",
   "metadata": {},
   "outputs": [
    {
     "data": {
      "text/html": [
       "<div>\n",
       "<style scoped>\n",
       "    .dataframe tbody tr th:only-of-type {\n",
       "        vertical-align: middle;\n",
       "    }\n",
       "\n",
       "    .dataframe tbody tr th {\n",
       "        vertical-align: top;\n",
       "    }\n",
       "\n",
       "    .dataframe thead th {\n",
       "        text-align: right;\n",
       "    }\n",
       "</style>\n",
       "<table border=\"1\" class=\"dataframe\">\n",
       "  <thead>\n",
       "    <tr style=\"text-align: right;\">\n",
       "      <th></th>\n",
       "      <th>name</th>\n",
       "      <th>height</th>\n",
       "      <th>weight</th>\n",
       "      <th>base_experience</th>\n",
       "      <th>hp</th>\n",
       "      <th>attack</th>\n",
       "      <th>defense</th>\n",
       "    </tr>\n",
       "  </thead>\n",
       "  <tbody>\n",
       "    <tr>\n",
       "      <th>0</th>\n",
       "      <td>pikachu</td>\n",
       "      <td>4</td>\n",
       "      <td>60</td>\n",
       "      <td>112</td>\n",
       "      <td>35</td>\n",
       "      <td>55</td>\n",
       "      <td>40</td>\n",
       "    </tr>\n",
       "    <tr>\n",
       "      <th>1</th>\n",
       "      <td>charmander</td>\n",
       "      <td>6</td>\n",
       "      <td>85</td>\n",
       "      <td>62</td>\n",
       "      <td>39</td>\n",
       "      <td>52</td>\n",
       "      <td>43</td>\n",
       "    </tr>\n",
       "    <tr>\n",
       "      <th>2</th>\n",
       "      <td>bulbasaur</td>\n",
       "      <td>7</td>\n",
       "      <td>69</td>\n",
       "      <td>64</td>\n",
       "      <td>45</td>\n",
       "      <td>49</td>\n",
       "      <td>49</td>\n",
       "    </tr>\n",
       "    <tr>\n",
       "      <th>3</th>\n",
       "      <td>squirtle</td>\n",
       "      <td>5</td>\n",
       "      <td>90</td>\n",
       "      <td>63</td>\n",
       "      <td>44</td>\n",
       "      <td>48</td>\n",
       "      <td>65</td>\n",
       "    </tr>\n",
       "  </tbody>\n",
       "</table>\n",
       "</div>"
      ],
      "text/plain": [
       "         name  height  weight  base_experience  hp  attack  defense\n",
       "0     pikachu       4      60              112  35      55       40\n",
       "1  charmander       6      85               62  39      52       43\n",
       "2   bulbasaur       7      69               64  45      49       49\n",
       "3    squirtle       5      90               63  44      48       65"
      ]
     },
     "execution_count": 3,
     "metadata": {},
     "output_type": "execute_result"
    }
   ],
   "source": [
    "\n",
    "import pandas as pd\n",
    "\n",
    "# Extract useful data\n",
    "def parse_pokemon_data(data):\n",
    "    if not data:\n",
    "        return None\n",
    "    \n",
    "    return {\n",
    "        \"name\": data[\"name\"],\n",
    "        \"height\": data[\"height\"],\n",
    "        \"weight\": data[\"weight\"],\n",
    "        \"base_experience\": data[\"base_experience\"],\n",
    "        \"hp\": next(stat[\"base_stat\"] for stat in data[\"stats\"] if stat[\"stat\"][\"name\"] == \"hp\"),\n",
    "        \"attack\": next(stat[\"base_stat\"] for stat in data[\"stats\"] if stat[\"stat\"][\"name\"] == \"attack\"),\n",
    "        \"defense\": next(stat[\"base_stat\"] for stat in data[\"stats\"] if stat[\"stat\"][\"name\"] == \"defense\")\n",
    "    }\n",
    "\n",
    "# Fetch data for multiple Pokémon\n",
    "pokemon_list = [\"pikachu\", \"charmander\", \"bulbasaur\", \"squirtle\"]\n",
    "pokemon_data = [parse_pokemon_data(get_pokemon_data(p)) for p in pokemon_list]\n",
    "\n",
    "# Create DataFrame\n",
    "df = pd.DataFrame(pokemon_data)\n",
    "df.head()\n"
   ]
  },
  {
   "cell_type": "markdown",
   "id": "1e1ec22b",
   "metadata": {},
   "source": [
    "\n",
    "# Exploratory Data Analysis (EDA) on Pokémon Data\n",
    "\n",
    "Now that we have gathered data, let's perform some basic EDA using **Pandas** and **Seaborn**.\n"
   ]
  },
  {
   "cell_type": "code",
   "execution_count": 4,
   "id": "e6d153a9",
   "metadata": {},
   "outputs": [
    {
     "name": "stdout",
     "output_type": "stream",
     "text": [
      "         height     weight  base_experience         hp     attack    defense\n",
      "count  4.000000   4.000000         4.000000   4.000000   4.000000   4.000000\n",
      "mean   5.500000  76.000000        75.250000  40.750000  51.000000  49.250000\n",
      "std    1.290994  13.928388        24.513602   4.645787   3.162278  11.146748\n",
      "min    4.000000  60.000000        62.000000  35.000000  48.000000  40.000000\n",
      "25%    4.750000  66.750000        62.750000  38.000000  48.750000  42.250000\n",
      "50%    5.500000  77.000000        63.500000  41.500000  50.500000  46.000000\n",
      "75%    6.250000  86.250000        76.000000  44.250000  52.750000  53.000000\n",
      "max    7.000000  90.000000       112.000000  45.000000  55.000000  65.000000\n"
     ]
    },
    {
     "data": {
      "image/png": "[encoded data removed]",
      "text/plain": [
       "<Figure size 1200x600 with 1 Axes>"
      ]
     },
     "metadata": {},
     "output_type": "display_data"
    },
    {
     "data": {
      "image/png": "[encoded data removed]",
      "text/plain": [
       "<Figure size 1200x600 with 1 Axes>"
      ]
     },
     "metadata": {},
     "output_type": "display_data"
    }
   ],
   "source": [
    "\n",
    "import matplotlib.pyplot as plt\n",
    "import seaborn as sns\n",
    "\n",
    "# Summary statistics\n",
    "print(df.describe())\n",
    "\n",
    "# Plot distributions\n",
    "plt.figure(figsize=(12, 6))\n",
    "sns.histplot(df[\"weight\"], bins=10, kde=True)\n",
    "plt.title(\"Distribution of Pokémon Weights\")\n",
    "plt.show()\n",
    "\n",
    "plt.figure(figsize=(12, 6))\n",
    "sns.boxplot(data=df[[\"hp\", \"attack\", \"defense\"]])\n",
    "plt.title(\"Box Plot of Pokémon Stats\")\n",
    "plt.show()\n"
   ]
  },
  {
   "cell_type": "code",
   "execution_count": null,
   "id": "810c3826",
   "metadata": {},
   "outputs": [],
   "source": []
  }
 ],
 "metadata": {
  "kernelspec": {
   "display_name": "Python 3",
   "language": "python",
   "name": "python3"
  },
  "language_info": {
   "codemirror_mode": {
    "name": "ipython",
    "version": 3
   },
   "file_extension": ".py",
   "mimetype": "text/x-python",
   "name": "python",
   "nbconvert_exporter": "python",
   "pygments_lexer": "ipython3",
   "version": "3.11.1"
  }
 },
 "nbformat": 4,
 "nbformat_minor": 5
}
