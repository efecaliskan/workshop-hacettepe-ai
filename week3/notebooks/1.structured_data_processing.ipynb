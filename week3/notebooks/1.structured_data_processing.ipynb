{
 "cells": [
  {
   "cell_type": "markdown",
   "metadata": {},
   "source": [
    "## Structured, Semi-Structured, and Unstructured Data\n",
    "\n",
    "**Structured Data:**\n",
    "- Organized in a fixed format (e.g., tables, relational databases, CSV files).\n",
    "- Easy to store and query using SQL.\n",
    "\n",
    "**Semi-Structured Data:**\n",
    "- Contains elements of structure but is not rigidly formatted (e.g., JSON, XML).\n",
    "- Requires special parsers to extract useful information.\n",
    "\n",
    "**Unstructured Data:**\n",
    "- No predefined format (e.g., plain text, images, PDFs).\n",
    "- Requires advanced processing like NLP or image recognition.\n"
   ]
  },
  {
   "cell_type": "code",
   "execution_count": null,
   "metadata": {},
   "outputs": [],
   "source": [
    "import pandas as pd\n",
    "import json\n",
    "import re"
   ]
  },
  {
   "cell_type": "markdown",
   "metadata": {},
   "source": [
    "### Processing Structured Data (CSV)"
   ]
  },
  {
   "cell_type": "code",
   "execution_count": null,
   "metadata": {},
   "outputs": [],
   "source": [
    "csv_data = \"\"\"id,name,age\\n1,Alice,30\\n2,Bob,25\\n3,Charlie,35\"\"\"\n",
    "with open(\"data.csv\", \"w\") as f:\n",
    "    f.write(csv_data)\n",
    "df = pd.read_csv(\"data.csv\")\n",
    "print(df.head())"
   ]
  },
  {
   "cell_type": "markdown",
   "metadata": {},
   "source": [
    "### Processing Semi-Structured Data (JSON)"
   ]
  },
  {
   "cell_type": "code",
   "execution_count": null,
   "metadata": {},
   "outputs": [],
   "source": [
    "json_data = '{\"employees\": [{\"id\": 1, \"name\": \"Alice\", \"age\": 30}, {\"id\": 2, \"name\": \"Bob\", \"age\": 25}]}'\n",
    "with open(\"data.json\", \"w\") as f:\n",
    "    f.write(json_data)\n",
    "with open(\"data.json\", \"r\") as f:\n",
    "    data = json.load(f)\n",
    "print(data[\"employees\"][0])"
   ]
  },
  {
   "cell_type": "markdown",
   "metadata": {},
   "source": [
    "### Processing Unstructured Data (TXT)"
   ]
  },
  {
   "cell_type": "code",
   "execution_count": null,
   "metadata": {},
   "outputs": [],
   "source": [
    "txt_data = \"Alice is 30 years old. Bob is 25 years old.\"\n",
    "with open(\"data.txt\", \"w\") as f:\n",
    "    f.write(txt_data)\n",
    "with open(\"data.txt\", \"r\") as f:\n",
    "    text = f.read()\n",
    "ages = re.findall(r'\\d+', text)\n",
    "print(\"Extracted ages:\", ages)"
   ]
  }
 ],
 "metadata": {
  "language_info": {
   "name": "python"
  }
 },
 "nbformat": 4,
 "nbformat_minor": 4
}
