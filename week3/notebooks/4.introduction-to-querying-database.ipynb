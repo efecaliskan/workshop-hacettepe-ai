{
 "cells": [
  {
   "cell_type": "code",
   "execution_count": null,
   "metadata": {},
   "outputs": [
    {
     "name": "stdout",
     "output_type": "stream",
     "text": [
      "   id     name  age\n",
      "0   1    Alice   30\n",
      "1   2      Bob   25\n",
      "2   3  Charlie   35\n"
     ]
    }
   ],
   "source": [
    "import sqlite3\n",
    "import pandas as pd\n",
    "\n",
    "conn = sqlite3.connect(\"database/example.db\")\n",
    "cursor = conn.cursor()\n",
    "\n",
    "# Create a table with sample data\n",
    "cursor.execute(\"\"\"\n",
    "CREATE TABLE IF NOT EXISTS my_table (\n",
    "    id INTEGER PRIMARY KEY,\n",
    "    name TEXT,\n",
    "    age INTEGER\n",
    ")\n",
    "\"\"\")\n",
    "\n",
    "# Insert sample data\n",
    "cursor.executemany(\"\"\"\n",
    "INSERT INTO my_table (name, age) VALUES (?, ?)\n",
    "\"\"\", [(\"Alice\", 30), (\"Bob\", 25), (\"Charlie\", 35)])\n",
    "\n",
    "conn.commit()\n",
    "\n",
    "# Define a query\n",
    "query = \"SELECT * FROM my_table\"\n",
    "\n",
    "# Execute query and load data into pandas DataFrame\n",
    "df = pd.read_sql_query(query, conn)\n",
    "\n",
    "# Display the DataFrame\n",
    "print(df.head())\n",
    "\n",
    "# Close the connection\n",
    "conn.close()"
   ]
  },
  {
   "cell_type": "code",
   "execution_count": null,
   "metadata": {},
   "outputs": [],
   "source": []
  }
 ],
 "metadata": {
  "kernelspec": {
   "display_name": "Python 3",
   "language": "python",
   "name": "python3"
  },
  "language_info": {
   "codemirror_mode": {
    "name": "ipython",
    "version": 3
   },
   "file_extension": ".py",
   "mimetype": "text/x-python",
   "name": "python",
   "nbconvert_exporter": "python",
   "pygments_lexer": "ipython3",
   "version": "3.11.1"
  }
 },
 "nbformat": 4,
 "nbformat_minor": 2
}
